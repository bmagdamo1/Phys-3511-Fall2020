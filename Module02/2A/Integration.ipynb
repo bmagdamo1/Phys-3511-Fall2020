{
 "cells": [
  {
   "cell_type": "code",
   "execution_count": null,
   "metadata": {},
   "outputs": [],
   "source": [
    "#This file contains a list of the integration functions\n",
    "#Reimann-left, Reimann-right, midpoint,trap., and simpson\n",
    "#Called during lecture material for demostration"
   ]
  },
  {
   "cell_type": "code",
   "execution_count": null,
   "metadata": {},
   "outputs": [],
   "source": []
  },
  {
   "cell_type": "code",
   "execution_count": 2,
   "metadata": {},
   "outputs": [],
   "source": [
    "import math\n",
    "import numpy as np\n",
    "import seaborn as sb\n",
    "import matplotlib.pyplot as plt\n",
    "%matplotlib notebook"
   ]
  },
  {
   "cell_type": "code",
   "execution_count": 3,
   "metadata": {},
   "outputs": [],
   "source": [
    "def riemann_left(f,x0,xn,n):\n",
    "    dx = (xn-x0)/float(n)\n",
    "    area = dx*math.fsum(f(x0 + i*dx) for i in range (0,n))\n",
    "    return area"
   ]
  },
  {
   "cell_type": "code",
   "execution_count": 4,
   "metadata": {},
   "outputs": [],
   "source": [
    "def riemann_right(f,x0,xn,n):\n",
    "    dx = (xn-x0)/float(n)\n",
    "    area = dx*math.fsum(f(x0 + i*dx) for i in range (1,n+1))\n",
    "    return area"
   ]
  },
  {
   "cell_type": "code",
   "execution_count": 5,
   "metadata": {},
   "outputs": [],
   "source": [
    "def midpoint(f,x0,xn,n):\n",
    "    dx = (xn-x0)/float(n)\n",
    "    area = dx*math.fsum(f(x0 + (i+0.5)*dx) for i in range (0,n))\n",
    "    return area"
   ]
  },
  {
   "cell_type": "code",
   "execution_count": 6,
   "metadata": {},
   "outputs": [],
   "source": [
    "def trap(f,x0,xn,n):\n",
    "    dx = (xn-x0)/float(n)\n",
    "    #area = 0.5*dx*math.fsum(2*f(x0 + i*dx) for i in range (1,n))\n",
    "    #area += 0.5*dx*(f(x0) + f(xn))\n",
    "    area = dx*math.fsum(0.5*(f(x0 +i*dx) + f(x0 + (i+1)*dx)) for i in range (0,n))\n",
    "    return area"
   ]
  },
  {
   "cell_type": "code",
   "execution_count": 7,
   "metadata": {},
   "outputs": [],
   "source": [
    "def simp(f,x0,xn,n):\n",
    "    dx = (xn-x0)/float(n)\n",
    "    s_odd = 0\n",
    "    s_even = 0\n",
    "    for i in range (1,n,2):\n",
    "        s_odd += 4*f(x0 + i*dx) \n",
    "    for j in range (2,n-1,2):\n",
    "        s_even += 2*f(x0 + j*dx) \n",
    "    area = (dx/3.0)*(f(x0) + s_even + s_odd + f(xn))\n",
    "    return area"
   ]
  },
  {
   "cell_type": "code",
   "execution_count": 12,
   "metadata": {},
   "outputs": [],
   "source": [
    "def f(x):\n",
    "    return x**3\n",
    "\n",
    "x0 = 0\n",
    "xn = 2\n",
    "n = 4\n",
    "#print(simp(f,x0,xn,n))"
   ]
  },
  {
   "cell_type": "code",
   "execution_count": 13,
   "metadata": {},
   "outputs": [],
   "source": [
    "def plot_riemann_left(f, x0, xn, namef=\"$f(x)$\", n=10, figname=None):\n",
    "    plt.figure()\n",
    "    xvalues = np.linspace(x0, xn, 1000) #create x-values\n",
    "    yvalues = [f(x) for x in xvalues] #calculate y values\n",
    "    plt.plot(xvalues, yvalues, 'r-')  # plots the function as a red line\n",
    "    # Now plot the rectangles\n",
    "    dx = (xn - x0) / float(n)\n",
    "    xi = [x0 + i * dx for i in range(0, n)]\n",
    "    yi = [f(x) for x in xi]  # left rectangles!\n",
    "    #print(yi)\n",
    "    for x, y in zip(xi, yi):\n",
    "        plt.plot([x, x, x + dx, x + dx, x], [0, y, y, 0, 0], 'b-')\n",
    "        #plt.plot([0.25,0.25,1,1],[0,2,2,0])\n",
    "    # Finally, computing the area\n",
    "    area = dx * math.fsum(yi)\n",
    "    plt.title(\"Riemman left rectangles for {} with {} rectangles. Area is {:.4g}.\".format(namef, n, area))\n",
    "    plt.xlim(x0, xn)\n",
    "    if figname:\n",
    "        plt.savefig(figname)  # Default was \"riemannleft.png\"\n",
    "    return area"
   ]
  },
  {
   "cell_type": "code",
   "execution_count": 10,
   "metadata": {},
   "outputs": [],
   "source": [
    "def plot_riemann_right(f, x0, xn, namef=\"$f(x)$\", n=10, figname=None):\n",
    "    plt.figure()\n",
    "    xvalues = np.linspace(x0, xn, 1000) #create x-values\n",
    "    yvalues = [f(x) for x in xvalues] #calculate y values\n",
    "    plt.plot(xvalues, yvalues, 'r-')  # plots the function as a red line\n",
    "    # Now plot the rectangles\n",
    "    dx = (xn - x0) / float(n)\n",
    "    xi = [x0 + i * dx for i in range(0, n)]\n",
    "    yi = [f(x+dx) for x in xi]  # left rectangles!\n",
    "    for x, y in zip(xi, yi):\n",
    "        plt.plot([x, x, x + dx, x + dx, x], [0, y, y, 0, 0], 'b-')\n",
    "        #plt.plot([0.25,0.25,1,1],[0,2,2,0])\n",
    "    # Finally, computing the area\n",
    "    area = dx * math.fsum(yi)\n",
    "    plt.title(\"Riemman left rectangles for {} with {} rectangles. Area is {:.4g}.\".format(namef, n, area))\n",
    "    plt.xlim(x0, xn)\n",
    "    if figname:\n",
    "        plt.savefig(figname)  # Default was \"riemannleft.png\"\n",
    "    return area"
   ]
  },
  {
   "cell_type": "code",
   "execution_count": 11,
   "metadata": {},
   "outputs": [],
   "source": [
    "def plot_midpoint(f, x0, xn, namef=\"$f(x)$\", n=10, figname=None):\n",
    "    plt.figure()\n",
    "    xvalues = np.linspace(x0, xn, 1000) #create x-values\n",
    "    yvalues = [f(x) for x in xvalues] #calculate y values\n",
    "    plt.plot(xvalues, yvalues, 'r-')  # plots the function as a red line\n",
    "    # Now plot the rectangles\n",
    "    dx = (xn - x0) / float(n)\n",
    "    xi = [x0 + i * dx for i in range(0, n)]\n",
    "    yi = [f(x+0.5*dx) for x in xi]  # left rectangles!\n",
    "    for x, y in zip(xi, yi):\n",
    "        plt.plot([x, x, x + dx, x + dx, x], [0, y, y, 0, 0], 'b-')\n",
    "        #plt.plot([0.25,0.25,1,1],[0,2,2,0])\n",
    "    # Finally, computing the area\n",
    "    area = dx * math.fsum(yi)\n",
    "    plt.title(\"Riemman left rectangles for {} with {} rectangles. Area is {:.4g}.\".format(namef, n, area))\n",
    "    plt.xlim(x0, xn)\n",
    "    if figname:\n",
    "        plt.savefig(figname)  # Default was \"riemannleft.png\"\n",
    "    return area"
   ]
  },
  {
   "cell_type": "code",
   "execution_count": 145,
   "metadata": {},
   "outputs": [],
   "source": [
    "def plot_trap(f, x0, xn, namef=\"$f(x)$\", n=10, figname=None):\n",
    "    plt.figure()\n",
    "    xvalues = np.linspace(x0, xn, 1000) #create x-values\n",
    "    yvalues = [f(x) for x in xvalues] #calculate y values\n",
    "    plt.plot(xvalues, yvalues, 'r-')  # plots the function as a red line\n",
    "    # Now plot the rectangles\n",
    "    dx = (xn - x0) / float(n)\n",
    "    xi = [x0 + i * dx for i in range(0, n)]\n",
    "    # Trapezoides !\n",
    "    for x in xi:\n",
    "        plt.plot([x, x, x + dx, x + dx, x], [0, f(x), f(x + dx), 0, 0], 'b-')  # trapez\n",
    "        plt.plot([x, x, x + dx, x + dx, x], [0, 0.5 * (f(x) + f(x + dx)), 0.5 * (f(x) + f(x + dx)), 0, 0], 'g:')  # Equivalent rectangle\n",
    "    # Finally, computing the area\n",
    "    area = 0.5 * dx * math.fsum(f(x) + f(x + dx) for x in xi)\n",
    "    plt.title(\"Trapezoidal rule for {} with {} trapeziums. Area is {:.4g}.\".format(namef, n, area))\n",
    "    plt.xlim(x0, xn)\n",
    "    if figname:\n",
    "        plt.savefig(figname)  # Default was \"trapezoides.png\"\n",
    "    return area"
   ]
  }
 ],
 "metadata": {
  "kernelspec": {
   "display_name": "Python 3",
   "language": "python",
   "name": "python3"
  },
  "language_info": {
   "codemirror_mode": {
    "name": "ipython",
    "version": 3
   },
   "file_extension": ".py",
   "mimetype": "text/x-python",
   "name": "python",
   "nbconvert_exporter": "python",
   "pygments_lexer": "ipython3",
   "version": "3.7.6"
  }
 },
 "nbformat": 4,
 "nbformat_minor": 4
}
