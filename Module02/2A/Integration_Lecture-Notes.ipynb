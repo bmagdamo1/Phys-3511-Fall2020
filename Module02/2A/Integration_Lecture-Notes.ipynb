{
 "cells": [
  {
   "cell_type": "markdown",
   "metadata": {},
   "source": [
    "# Investigating Numerical Integration Methods"
   ]
  },
  {
   "cell_type": "code",
   "execution_count": 1,
   "metadata": {},
   "outputs": [],
   "source": [
    "from Integration import *\n",
    "import matplotlib.pyplot as plt\n",
    "import math\n",
    "%matplotlib notebook"
   ]
  },
  {
   "cell_type": "markdown",
   "metadata": {},
   "source": [
    "# Integration Algorthms\n",
    "\n",
    " Let's now look at another integral:\n",
    "### $\\int_{1}^{2} \\frac{1}{x} dx = ln(x)|_{1}^{2} = ln(2) = 0.693147...$ "
   ]
  },
  {
   "cell_type": "code",
   "execution_count": 2,
   "metadata": {},
   "outputs": [],
   "source": [
    "f2 = lambda x : 1/x\n",
    "exact_sol2 = 0.693147\n",
    "\n",
    "x0 = 1\n",
    "xn = 2\n",
    "n = 4\n",
    "dx = float((xn-x0)/n)"
   ]
  },
  {
   "cell_type": "markdown",
   "metadata": {},
   "source": [
    "### How do we write the numerical integration algorithms?\n",
    "We will take a look at the Reimann Left method\\\n",
    "Remember this says: $$\\int_{x_0}^{x_n} f(x) dx \\approx \\Delta x [f(x_0) + f(x_1) + ...+ f(x_n)]$$\n",
    "\n",
    "where $\\Delta x = \\frac{x_n - x_0}{n}$\n",
    "\n",
    "We will write a function to perform this integration. Our function will take the arguments of a function, $f(x),\\; x_0\\;, x_n\\;, n$\n"
   ]
  },
  {
   "cell_type": "code",
   "execution_count": 3,
   "metadata": {},
   "outputs": [],
   "source": [
    "#plot_riemann_left(f2,x0,xn,'$x^{-1}$',n,None)"
   ]
  },
  {
   "cell_type": "code",
   "execution_count": 4,
   "metadata": {},
   "outputs": [],
   "source": [
    "def riemann_sum_left(f,xmin,xmax,n_part):\n",
    "    '''Approximates integral using Riemann sum of the left point.\n",
    "       Takes the function f(x),\n",
    "                  intitial x position, xmin,\n",
    "                   final x position, xmax,\n",
    "                   and number of partitions, n_part\n",
    "                   as agruments'''\n",
    "    #define Delta x\n",
    "    dx = (xmax - xmin)/float(n_part)\n",
    "    area = 0\n",
    "    #first step discritize out function\n",
    "    #---Method 1\n",
    "    for i in range (0,n_part):\n",
    "        area += dx*f(xmin + i*dx)\n",
    "    \n",
    "    #---Method 2\n",
    "    #area = dx*math.fsum(f(xmin + i*dx) for i in range (0,n_part)) \n",
    "    \n",
    "    return area"
   ]
  },
  {
   "cell_type": "code",
   "execution_count": 5,
   "metadata": {},
   "outputs": [
    {
     "name": "stdout",
     "output_type": "stream",
     "text": [
      "Riemann Sum Left: 0.7595238095238095\n",
      "exact solution: 0.693147\n",
      "9.57615188752307\n"
     ]
    }
   ],
   "source": [
    "riemann_left_sol = riemann_sum_left(f2,x0,xn,n)\n",
    "print('Riemann Sum Left:',riemann_left_sol)\n",
    "print('exact solution:', exact_sol2)\n",
    "print(100*(riemann_left_sol - exact_sol2)/exact_sol2)"
   ]
  },
  {
   "cell_type": "markdown",
   "metadata": {},
   "source": [
    "# Scipy \n",
    "We can use the library <a href=\"https://docs.scipy.org/doc/scipy/reference/integrate.html\">Scipy</a> to use already written integration algorithms"
   ]
  },
  {
   "cell_type": "code",
   "execution_count": 6,
   "metadata": {},
   "outputs": [],
   "source": [
    "from scipy import integrate"
   ]
  },
  {
   "cell_type": "code",
   "execution_count": 7,
   "metadata": {},
   "outputs": [],
   "source": [
    "sci_quad = integrate.quad(f2,x0,xn) #adaptive based on fortrane co"
   ]
  },
  {
   "cell_type": "code",
   "execution_count": 8,
   "metadata": {},
   "outputs": [
    {
     "name": "stdout",
     "output_type": "stream",
     "text": [
      "sci_quad: (0.6931471805599454, 7.695479593116622e-15)\n",
      "exact solution: 0.693147\n",
      "2.604930057255388e-05\n"
     ]
    }
   ],
   "source": [
    "print('sci_quad:',sci_quad)\n",
    "print('exact solution:', exact_sol2)\n",
    "print(100*(sci_quad[0] - exact_sol2)/exact_sol2)"
   ]
  },
  {
   "cell_type": "markdown",
   "metadata": {},
   "source": [
    "To use scipy trapazoid integration we will need to create an array of x and y ($f(x)$) values.\\\n",
    "We will also need to do the same to use the Simpson method."
   ]
  },
  {
   "cell_type": "code",
   "execution_count": 9,
   "metadata": {},
   "outputs": [
    {
     "name": "stdout",
     "output_type": "stream",
     "text": [
      "[1.   1.25 1.5  1.75 2.  ] [1.         0.8        0.66666667 0.57142857 0.5       ]\n",
      "sci_trap: 0.6970238095238095\n",
      "exact solution: 0.693147\n",
      "0.5593055331422531\n"
     ]
    }
   ],
   "source": [
    "xs = np.linspace(x0,xn,n+1) #n+1 points needed for n partitions. \n",
    "ys = 1/xs\n",
    "print(xs,ys)\n",
    "sci_trap = integrate.trapz(ys,xs,dx)\n",
    "print('sci_trap:',sci_trap)\n",
    "print('exact solution:', exact_sol2)\n",
    "print(100*(sci_trap - exact_sol2)/exact_sol2)"
   ]
  },
  {
   "cell_type": "code",
   "execution_count": 10,
   "metadata": {},
   "outputs": [
    {
     "name": "stdout",
     "output_type": "stream",
     "text": [
      "sci_simp: 0.6932539682539682\n",
      "exact solution: 0.693147\n",
      "0.015432260973253282\n"
     ]
    }
   ],
   "source": [
    "sci_simp = integrate.simps(ys,xs)\n",
    "print('sci_simp:',sci_simp)\n",
    "print('exact solution:', exact_sol2)\n",
    "print(100*(sci_simp - exact_sol2)/exact_sol2)"
   ]
  },
  {
   "cell_type": "markdown",
   "metadata": {},
   "source": [
    "Explore what else is in Scipy Integrate library!"
   ]
  },
  {
   "cell_type": "code",
   "execution_count": null,
   "metadata": {},
   "outputs": [],
   "source": []
  },
  {
   "cell_type": "code",
   "execution_count": null,
   "metadata": {},
   "outputs": [],
   "source": []
  }
 ],
 "metadata": {
  "kernelspec": {
   "display_name": "Python 3",
   "language": "python",
   "name": "python3"
  },
  "language_info": {
   "codemirror_mode": {
    "name": "ipython",
    "version": 3
   },
   "file_extension": ".py",
   "mimetype": "text/x-python",
   "name": "python",
   "nbconvert_exporter": "python",
   "pygments_lexer": "ipython3",
   "version": "3.7.6"
  }
 },
 "nbformat": 4,
 "nbformat_minor": 4
}
