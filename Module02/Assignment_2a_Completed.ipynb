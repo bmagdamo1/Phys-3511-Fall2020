{
 "cells": [
  {
   "cell_type": "markdown",
   "metadata": {},
   "source": [
    "# Assignment 2a Due\n",
    "\n",
    "In this assigment you will explore and become familiar with writing and using algorithms to numerically approxomate definite integrals.\n",
    "\n",
    "Assignment Overview:\n",
    "* Impliment your own midpoint, trapazoid, and Simpson's rule integration algorithms\n",
    "* Use those to solve a definite integral\n",
    "* Compare your algorithms to those from scipy\n",
    "* Compare all approximate solutions to the exact solutions\n"
   ]
  },
  {
   "cell_type": "markdown",
   "metadata": {},
   "source": [
    "You can import only the following packages: numpy, math, scipy, matplotlib.pyplot"
   ]
  },
  {
   "cell_type": "code",
   "execution_count": 1,
   "metadata": {},
   "outputs": [],
   "source": [
    "#your import cell\n",
    "import numpy as np\n",
    "import math\n",
    "from scipy import integrate\n",
    "import matplotlib.pyplot as plt"
   ]
  },
  {
   "cell_type": "markdown",
   "metadata": {},
   "source": [
    "Now we can define our integration algorithms"
   ]
  },
  {
   "cell_type": "code",
   "execution_count": 2,
   "metadata": {},
   "outputs": [],
   "source": [
    "#define midpoint rule\n",
    "def midpoint_rule(f, a, b, n):\n",
    "    h = (b-a) / n\n",
    "    ans = 0\n",
    "    for i in range(n):\n",
    "        ans += f((a + h/2.0) + i*h)\n",
    "    ans *= h\n",
    "    return ans"
   ]
  },
  {
   "cell_type": "code",
   "execution_count": 3,
   "metadata": {},
   "outputs": [],
   "source": [
    "#define trapazoidal rule\n",
    "def trapezoidal_rule(f,a,b,n):\n",
    "    h = (b-a) / n\n",
    "    ans = 0\n",
    "    trap = np.zeros(n-1)\n",
    "    for i in range(1,n):\n",
    "        trap[i-1] = a + i*h\n",
    "    ans = (h/2)*(f(a) + 2*np.sum(f(trap)) + f(b))\n",
    "    return ans"
   ]
  },
  {
   "cell_type": "code",
   "execution_count": 4,
   "metadata": {},
   "outputs": [],
   "source": [
    "#define simpson's rule\n",
    "def simpsons_rule(f,a,b,n):\n",
    "    h = (b-a) / n\n",
    "    ans, evens, odds = 0,0,0\n",
    "    s = np.zeros(n-1)\n",
    "    for i in range(1,n):\n",
    "        s[i-1] = a + i*h\n",
    "    for i in range(len(s)):\n",
    "        if (i+1) % 2 == 0:\n",
    "            evens = evens + 2*f(s[i])\n",
    "        else:\n",
    "            odds = odds + 4*f(s[i])\n",
    "    ans = (h/3)*(f(a) + evens + odds + f(b))\n",
    "    return ans\n",
    "    "
   ]
  },
  {
   "cell_type": "markdown",
   "metadata": {},
   "source": [
    "# Question \n",
    "Sanity checking your code is very important. How can you check that your functions are working properly?"
   ]
  },
  {
   "cell_type": "markdown",
   "metadata": {},
   "source": [
    "I can check these functions with a simple integral or create print statements along the way to make sure the outputs are the intended ones."
   ]
  },
  {
   "cell_type": "markdown",
   "metadata": {},
   "source": [
    "For this notebook assigment we would like to solve the integral\\\n",
    "$\\int_{a}^{b} \\frac{2}{(2^2 + x^2)^{3/2}}dx$"
   ]
  },
  {
   "cell_type": "markdown",
   "metadata": {},
   "source": [
    "# Question\n",
    "Have you seen an integral like this before in physics? From where?"
   ]
  },
  {
   "cell_type": "markdown",
   "metadata": {},
   "source": [
    "I have seen integrals like this before, but I'm not sure specifically where I saw them."
   ]
  },
  {
   "cell_type": "markdown",
   "metadata": {},
   "source": [
    "Solve the above integral using the numerical integrations that you wrote. When defining the function we will integrate over do so using python's **lambda** function.\n",
    "\n",
    "For the integration take $a = 0,\\; b = 2,\\;$ and we will split it up into 6 partitions."
   ]
  },
  {
   "cell_type": "markdown",
   "metadata": {},
   "source": [
    "# Question\n",
    "What is the exact solution?"
   ]
  },
  {
   "cell_type": "code",
   "execution_count": 5,
   "metadata": {},
   "outputs": [
    {
     "name": "stdout",
     "output_type": "stream",
     "text": [
      "(0.3535533905932738, 3.925231146709438e-15)\n"
     ]
    }
   ],
   "source": [
    "#exact solution to the integral\n",
    "f1 = lambda x: 2/(4 + x**2)**(3/2)\n",
    "exact_solution = integrate.quad(f1,0,2)\n",
    "print(exact_solution)"
   ]
  },
  {
   "cell_type": "code",
   "execution_count": 6,
   "metadata": {},
   "outputs": [
    {
     "name": "stdout",
     "output_type": "stream",
     "text": [
      "0.35385997545853143\n",
      "0.35293994641413146\n",
      "0.3535517906244493\n"
     ]
    }
   ],
   "source": [
    "#solve the integral using your integration functions\n",
    "print(midpoint_rule(f1,0,2,6))\n",
    "print(trapezoidal_rule(f1,0,2,6))\n",
    "print(simpsons_rule(f1,0,2,6))"
   ]
  },
  {
   "cell_type": "markdown",
   "metadata": {},
   "source": [
    "Use the trapz and simps methods from scipy's integration library to solve the integral.\n",
    "\n",
    "Note: Shit+tab at the end of a function in jupyter notebook reveals lots of information about the function."
   ]
  },
  {
   "cell_type": "code",
   "execution_count": 7,
   "metadata": {},
   "outputs": [
    {
     "name": "stdout",
     "output_type": "stream",
     "text": [
      "0.35293994641413146\n",
      "0.35355179062444925\n"
     ]
    }
   ],
   "source": [
    "#scipy integration\n",
    "a,b,n = 0,2,6\n",
    "h = (b-a) / n\n",
    "xs = np.linspace(a,b,n+1)\n",
    "ys = 2/(4 + xs**2)**(3/2)\n",
    "\n",
    "trap = integrate.trapz(ys,xs,h)\n",
    "simps = integrate.simps(ys,xs,h)\n",
    "print(trap)\n",
    "print(simps)"
   ]
  },
  {
   "cell_type": "markdown",
   "metadata": {},
   "source": [
    "# Question\n",
    "How do scipy integrals compare to yours? Support your answer. "
   ]
  },
  {
   "cell_type": "markdown",
   "metadata": {},
   "source": [
    "These integrals are very close to my function-generated values"
   ]
  },
  {
   "cell_type": "code",
   "execution_count": 8,
   "metadata": {},
   "outputs": [
    {
     "name": "stdout",
     "output_type": "stream",
     "text": [
      "0.35293994641413146\n",
      "0.35293994641413146\n",
      "0.3535517906244493\n",
      "0.35355179062444925\n"
     ]
    }
   ],
   "source": [
    "#print the numerical values\n",
    "print(trapezoidal_rule(f1,0,2,6))\n",
    "print(trap)\n",
    "print(simpsons_rule(f1,0,2,6))\n",
    "print(simps)"
   ]
  },
  {
   "cell_type": "markdown",
   "metadata": {},
   "source": [
    "Numerically compare your midpoint, trapazoid, and Simpson method results to the exact value by calculating the quantity (approx - exact) / exact for each method. "
   ]
  },
  {
   "cell_type": "code",
   "execution_count": 9,
   "metadata": {},
   "outputs": [
    {
     "name": "stdout",
     "output_type": "stream",
     "text": [
      "0.0008671529489313703\n",
      "-0.0017350821558038288\n",
      "-4.5253952219184745e-06\n"
     ]
    }
   ],
   "source": [
    "#numerical comparisons\n",
    "def percent_error(approx,exact):\n",
    "    ans = (approx-exact)/exact\n",
    "    return ans\n",
    "f1 = lambda x: 2/(4 + x**2)**(3/2)\n",
    "exact_answer = (integrate.quad(f1,0,2))[0]\n",
    "approx_mid = midpoint_rule(f1,0,2,6)\n",
    "approx_trapz = trapezoidal_rule(f1,0,2,6)\n",
    "approx_simps = simpsons_rule(f1,0,2,6)\n",
    "m = percent_error(approx_mid,exact_answer)\n",
    "t = percent_error(approx_trapz,exact_answer)\n",
    "s = percent_error(approx_simps,exact_answer)\n",
    "print(m)\n",
    "print(t)\n",
    "print(s)\n"
   ]
  },
  {
   "cell_type": "markdown",
   "metadata": {},
   "source": [
    "# Question\n",
    "Which method provides the best approximation to the exact solution?"
   ]
  },
  {
   "cell_type": "markdown",
   "metadata": {},
   "source": [
    "Simpson's Method clearly creates the best approximation to the exact solution."
   ]
  },
  {
   "cell_type": "markdown",
   "metadata": {},
   "source": [
    "It is often useful to represent the data graphically. Make a scatter plot showing the percent difference $100 \\times \\frac{approx. - exact}{exact}$ vs. integration method. Integration method on your x-axis should be strings such as *midpoint, trapazoid, and Simpson*. You should also draw on your plot a line at *y = 0*, which will help guide the eye where the perfect approximation (the exact solution) would sit. "
   ]
  },
  {
   "cell_type": "code",
   "execution_count": 10,
   "metadata": {},
   "outputs": [
    {
     "data": {
      "image/png": "[encoded data removed]",
      "text/plain": [
       "<Figure size 432x288 with 1 Axes>"
      ]
     },
     "metadata": {
      "needs_background": "light"
     },
     "output_type": "display_data"
    }
   ],
   "source": [
    "#plot\n",
    "methods = ['Simpson\\'s','Trapezoidal','Midpoint']\n",
    "values = [s*100,t*100,m*100]\n",
    "plt.figure()\n",
    "plt.scatter(methods,values)\n",
    "plt.suptitle(\"Percent Difference vs. Integration Method\",fontsize=20)\n",
    "plt.xlabel(\"Integration Method\",fontsize=12)\n",
    "plt.ylabel(\"Percent Error\",fontsize=12)\n",
    "plt.hlines(0,0,2,colors='k')\n",
    "plt.show()\n",
    "plt.close()"
   ]
  },
  {
   "cell_type": "markdown",
   "metadata": {},
   "source": [
    "Using the scipy *quad* integration method, approximate the following integral\n",
    "\n",
    "$$\\int_{-\\infty}^{\\infty} e^{-x^{2}} dx$$\n",
    "\n",
    "Hint: Reference <a href=\"https://numpy.org/\">numpy</a> and see what it has to offer in terms of functions and *special* values"
   ]
  },
  {
   "cell_type": "code",
   "execution_count": 11,
   "metadata": {},
   "outputs": [
    {
     "name": "stdout",
     "output_type": "stream",
     "text": [
      "(1.7724538509055159, 1.4202636780944923e-08)\n",
      "3.1415926535897927\n"
     ]
    }
   ],
   "source": [
    "#solve integral above\n",
    "f1 = lambda x: math.exp(-x**2)\n",
    "exact_solution = integrate.quad(f1,-np.inf,np.inf)\n",
    "print(exact_solution)\n",
    "square = (exact_solution[0])**2\n",
    "print(square)"
   ]
  },
  {
   "cell_type": "markdown",
   "metadata": {},
   "source": [
    "# Question\n",
    "If you square your solution, does the resulting number have any special meaning?"
   ]
  },
  {
   "cell_type": "markdown",
   "metadata": {},
   "source": [
    "The square of the solution is pi."
   ]
  },
  {
   "cell_type": "code",
   "execution_count": null,
   "metadata": {},
   "outputs": [],
   "source": []
  }
 ],
 "metadata": {
  "kernelspec": {
   "display_name": "Python 3",
   "language": "python",
   "name": "python3"
  },
  "language_info": {
   "codemirror_mode": {
    "name": "ipython",
    "version": 3
   },
   "file_extension": ".py",
   "mimetype": "text/x-python",
   "name": "python",
   "nbconvert_exporter": "python",
   "pygments_lexer": "ipython3",
   "version": "3.7.3"
  }
 },
 "nbformat": 4,
 "nbformat_minor": 4
}
