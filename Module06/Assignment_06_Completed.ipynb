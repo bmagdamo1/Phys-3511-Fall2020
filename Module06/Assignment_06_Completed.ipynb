{
 "cells": [
  {
   "cell_type": "markdown",
   "metadata": {},
   "source": [
    "# Assignment 06: Due 10/12\n",
    "\n",
    "In this assignment we will look at some real data from the CMS experiment at the LHC. The LHC makes a lot of its data publically available here: http://opendata.cern.ch. The information about the data set we will be working with at can be found here: http://opendata.cern.ch/record/545"
   ]
  },
  {
   "cell_type": "markdown",
   "metadata": {},
   "source": [
    "## Imports \n",
    "\n",
    "For this assignemnt you will need the following imports"
   ]
  },
  {
   "cell_type": "code",
   "execution_count": 2,
   "metadata": {},
   "outputs": [],
   "source": [
    "import pandas as pd\n",
    "import numpy as np\n",
    "import matplotlib.pyplot as plt\n",
    "from scipy import optimize\n",
    "from scipy.optimize import curve_fit #simpliest scipy fitting method\n",
    "%matplotlib notebook"
   ]
  },
  {
   "cell_type": "markdown",
   "metadata": {},
   "source": [
    "# Problem 1\n",
    "\n",
    "Create a Pandas DataFrame object from the data file *Zee_Run2011A.csv*, located in the *data* dircetroy, and use the *info* function to list the information from the DataFrame."
   ]
  },
  {
   "cell_type": "code",
   "execution_count": 41,
   "metadata": {},
   "outputs": [
    {
     "name": "stdout",
     "output_type": "stream",
     "text": [
      "<class 'pandas.core.frame.DataFrame'>\n",
      "RangeIndex: 18885 entries, 0 to 18884\n",
      "Data columns (total 22 columns):\n",
      "Run             18885 non-null int64\n",
      "Event           18885 non-null int64\n",
      "pt1             18885 non-null float64\n",
      "eta1            18885 non-null float64\n",
      "phi1            18885 non-null float64\n",
      "Q1              18885 non-null int64\n",
      "type1           18885 non-null object\n",
      "sigmaEtaEta1    18885 non-null float64\n",
      "HoverE1         18885 non-null float64\n",
      "isoTrack1       18885 non-null float64\n",
      "isoEcal1        18885 non-null float64\n",
      "isoHcal1        18885 non-null float64\n",
      "pt2             18885 non-null float64\n",
      "eta2            18885 non-null float64\n",
      "phi2            18885 non-null float64\n",
      "Q2              18885 non-null int64\n",
      "type2           18885 non-null object\n",
      "sigmaEtaEta2    18885 non-null float64\n",
      "HoverE2         18885 non-null float64\n",
      "isoTrack2       18885 non-null float64\n",
      "isoEcal2        18885 non-null float64\n",
      "isoHcal2        18885 non-null float64\n",
      "dtypes: float64(16), int64(4), object(2)\n",
      "memory usage: 3.2+ MB\n"
     ]
    }
   ],
   "source": [
    "df = pd.read_csv('Data/Zee_Run2011A.csv')\n",
    "df.info()"
   ]
  },
  {
   "cell_type": "markdown",
   "metadata": {},
   "source": [
    "# Problem 2\n",
    "\n",
    "Create a new DataFrame column, which lists the value of the reconstructed invariant mass, $m_{inv}$, from the $Z\\rightarrow ee$ decay. The invariant mass is given by\n",
    "\n",
    "$m_{inv} = \\sqrt{2 p_{T1} p_{T2} \\left(cosh\\left(\\eta_1 - \\eta_2\\right) - cos\\left(\\phi_1 -\\phi_2\\right) \\right)}$\n",
    "\n",
    "Make a histogram of the invariant mass."
   ]
  },
  {
   "cell_type": "code",
   "execution_count": 42,
   "metadata": {},
   "outputs": [
    {
     "data": {
      "image/png": "[encoded data removed]",
      "text/plain": [
       "<Figure size 432x288 with 1 Axes>"
      ]
     },
     "metadata": {
      "needs_background": "light"
     },
     "output_type": "display_data"
    }
   ],
   "source": [
    "minv = np.sqrt(2*df.pt1 * df.pt2*(np.cosh(df.eta1 - df.eta2) - np.cos(df.phi1 - df.phi2)))\n",
    "df['M'] = minv\n",
    "fig1 = plt.figure('Z decay')\n",
    "plt.hist(df.M,bins=250,alpha = 0.7, label=r'$Z\\rightarrow ee$')\n",
    "plt.legend();"
   ]
  },
  {
   "cell_type": "markdown",
   "metadata": {},
   "source": [
    "# Problem 3\n",
    "\n",
    "The Relativistic Breit-Wigner distribution is expected to describe the , which is given as\n",
    "\n",
    "Wikepedia: https://en.wikipedia.org/wiki/Relativistic_Breit%E2%80%93Wigner_distribution\n",
    "\n",
    "$f(E) = \\frac{k}{(E^2 -M^2)^2 + M^2\\Gamma^2}$, where\n",
    "\n",
    " * $\\gamma$ = $\\sqrt{M^2(M^2+\\Gamma^2)}$\n",
    " * $k = \\frac{2\\sqrt{2}M\\Gamma\\gamma}{\\pi\\sqrt{M^2+\\gamma}}$\n",
    " \n",
    " Where $E$ is the energy, $M$ is the mass value where the function will peak. \n",
    " Fit the invariant mass distribution with the function:\n",
    " \n",
    " $aE + b + cf(E)$,\n",
    " \n",
    " where $a, b, $ and $c$ are fit parameters to be deterimined by your fit that describe a linear background, and $f(E)$ is the Relativistic Breit-Wigner function described above. To do this you should make a function that takes as agruments: $\\Gamma, M, a, b, c$. Where $\\Gamma$ and $M$ are contained in the Breit-Wigner function ($f(E)$). Our fit will determine the values $\\Gamma, M, a, b, c$. The value of $M = m_{inv}$ and should be near where the distribution peaks.   \n",
    " \n",
    " Fit the distribution and calculate the reduced $\\chi^2$. You can use either the *curve_fit* function form Scipy or the MC fitting approach.\n",
    " \n",
    " What is your best invariant mass value according to your fit? How does this compare to the accepted value of the $Z$ boson mass (you can look it up on Wikipedia)?"
   ]
  },
  {
   "cell_type": "code",
   "execution_count": 43,
   "metadata": {},
   "outputs": [
    {
     "data": {
      "image/png": "[encoded data removed]",
      "text/plain": [
       "<Figure size 432x288 with 1 Axes>"
      ]
     },
     "metadata": {
      "needs_background": "light"
     },
     "output_type": "display_data"
    }
   ],
   "source": [
    "def breitwigner_rel(E, gamma, M, a, b, A):\n",
    "    little_gamma = np.sqrt(M**2*(M**2 + gamma**2))\n",
    "    k = 2*np.sqrt(2)*M*gamma*little_gamma/(np.pi*np.sqrt(M**2 + little_gamma))\n",
    "    return a*E + b + A*(k/((E**2 - M**2)**2 + M**2 * gamma**2))\n",
    "\n",
    "fig = plt.figure()\n",
    "histogram_mu = plt.hist(minv, bins=250)\n",
    "\n",
    "y_mu = histogram_mu[0]\n",
    "x_mu = 0.5*( histogram_mu[1][0:-1] + histogram_mu[1][1:] )\n",
    "y_mu_error = np.sqrt(y_mu)\n",
    "for i in range (len(y_mu)):\n",
    "    if y_mu_error[i] == 0:\n",
    "        y_mu_error[i] = 1.0\n",
    "    else:\n",
    "        y_mu_error[i] = y_mu_error[i]\n",
    "\n",
    "initials = [2.5,90,-1, 100, 10000]\n",
    "best_mu, covariance_mu = curve_fit(breitwigner_rel, x_mu, y_mu, p0=initials, sigma=y_mu_error)\n",
    "error_mu = np.sqrt(np.diag(covariance_mu))        \n",
    "\n",
    "plt.plot(x_mu, breitwigner_rel(x_mu, *best_mu), 'r-', label='gamma = {}, M = {}'.format(best_mu[0], best_mu[1]))\n",
    "plt.xlabel('Invariant mass [GeV]')\n",
    "plt.ylabel('Number of events')\n",
    "plt.title('Breit-Wigner fit')\n",
    "plt.legend();"
   ]
  },
  {
   "cell_type": "markdown",
   "metadata": {},
   "source": [
    "The invariant mass is approximately 90.56 GeV.  The reduced chi-square is approximately 6.67."
   ]
  },
  {
   "cell_type": "markdown",
   "metadata": {},
   "source": [
    "# Problem 4\n",
    "\n",
    "On the same graph, make histograms of the $\\eta_1$ and $\\eta_2$ distributions. Be sure to include a legend so the two distributions can be distinquised."
   ]
  },
  {
   "cell_type": "code",
   "execution_count": 44,
   "metadata": {},
   "outputs": [
    {
     "data": {
      "image/png": "[encoded data removed]",
      "text/plain": [
       "<Figure size 432x288 with 1 Axes>"
      ]
     },
     "metadata": {
      "needs_background": "light"
     },
     "output_type": "display_data"
    }
   ],
   "source": [
    "fig2 = plt.figure('eta')\n",
    "plt.hist(df.eta1,bins = 100,alpha = 0.5, label =r'$\\eta_1$')\n",
    "plt.hist(df.eta2,bins = 100,alpha = 0.5, label = r'$\\eta_2$')\n",
    "plt.xlabel(r'$\\eta$')\n",
    "plt.title('Eta Counts')\n",
    "plt.legend();"
   ]
  },
  {
   "cell_type": "markdown",
   "metadata": {},
   "source": [
    "# Problem 5\n",
    "\n",
    "From the distribution above, we clearly see two distinct distributions in the histogram. We can explain this due to the decay being detected in two different detectors, the electromagnetic barrel calorimeter (EB) and the endcap electromagnetic calorimeter (EE). This distinction is made in the column labeled *type1* and *type2*, which tells us which detector particle 1 and particle 2 are detected in. \n",
    "\n",
    "Create two DataFrames *barrel* and *endcap*, where *barrel* keeps all of the information in the original DataFrame where both particles were detected in the EB, and *endcap* keeps all of the information in the original DataFrame where both particles were detected in the EE.\n",
    "\n",
    "Make two sub plots where in sub plot one you histogram the $\\eta1$ distribution for the particles in the EB and EE. Then in sub plot two histogram the $\\eta2$ distribution for particles detected in the EE and EB. Be sure to include a legend that distiquishes EB from EE events.\n",
    "\n",
    "Based on the information above, does our assumption that the $\\eta$ distribution looks the way it does is because of the two different detectors make sense? Based on your histograms, what is the rough $\\eta$ ranges covered by the EB and EE detectors?"
   ]
  },
  {
   "cell_type": "code",
   "execution_count": 45,
   "metadata": {},
   "outputs": [
    {
     "data": {
      "image/png": "[encoded data removed]",
      "text/plain": [
       "<Figure size 432x288 with 2 Axes>"
      ]
     },
     "metadata": {
      "needs_background": "light"
     },
     "output_type": "display_data"
    }
   ],
   "source": [
    "df_EB = df[(df['type1'] == 'EB') & (df['type2'] == 'EB')]\n",
    "df_EE = df[(df['type1'] == 'EE') & (df['type2'] == 'EE')]\n",
    "fig3, (ax1, ax2) = plt.subplots(2)\n",
    "ax1.set_title('$\\eta$ 1')\n",
    "ax2.set_title('$\\eta$ 2')\n",
    "ax1.hist(df_EB.eta1,bins = 100,alpha = 0.5, label = 'EB')\n",
    "ax1.hist(df_EE.eta1,bins = 100,alpha = 0.5, label = 'EE')\n",
    "ax2.hist(df_EB.eta1,bins = 100,alpha = 0.5, label = 'EB')\n",
    "ax2.hist(df_EE.eta1,bins = 100,alpha = 0.5, label = 'EE')\n",
    "ax1.legend()\n",
    "ax2.legend()\n",
    "fig3.tight_layout(pad=1.0)"
   ]
  },
  {
   "cell_type": "markdown",
   "metadata": {},
   "source": [
    "It is clear that the electrogmagnetic barrel calorimeter reads smaller $\\eta$ values than the endcap electromagnetic calorimeter.  The EB takes on values between -1.5 to 1.5 and the EE takes on values larger than that on either side.  This is due to the different readers being able to detect different phi values, or different angles during the experiment."
   ]
  },
  {
   "cell_type": "markdown",
   "metadata": {},
   "source": [
    "# Problem 6\n",
    "\n",
    "With particles being detected in two different detectors, the resolution of the detectors could differ. This could reslt in measureing the boson mass better in one detector than the other.\n",
    "\n",
    "Using your *barrel* and *endcap* DataFrames from above, on the same graph make a histogram of the invariant mass measured in the barrel and endcap detectors.  \n",
    "\n",
    "Use the *std* function to get the standard deviation of the two invariant mass distributions. The standard deviation is reflective of how narrow our mass peak is. Which detector gives the better resolution and hence the narrower invariant mass distribution? Does your histogram support the same conclusion?"
   ]
  },
  {
   "cell_type": "code",
   "execution_count": 51,
   "metadata": {},
   "outputs": [
    {
     "name": "stdout",
     "output_type": "stream",
     "text": [
      "The standard deviation of EE is 12.229202324653295 and the standard deviation of EB is 11.489115344078318\n",
      "The EB has the smaller standard deviation, which is evidenced by its narrower peak on the histogram.\n"
     ]
    },
    {
     "data": {
      "image/png": "[encoded data removed]",
      "text/plain": [
       "<Figure size 432x288 with 1 Axes>"
      ]
     },
     "metadata": {
      "needs_background": "light"
     },
     "output_type": "display_data"
    }
   ],
   "source": [
    "fig4 = plt.figure('Width of Invariant Mass')\n",
    "plt.hist(df_EE.M,bins = 100,alpha = 0.5, label ='EE')\n",
    "plt.hist(df_EB.M,bins = 100,alpha = 0.5, label = 'EB')\n",
    "plt.xlabel('Invariant Mass')\n",
    "plt.title('Eta Counts')\n",
    "plt.legend();\n",
    "std_EE = df_EE.M.std()\n",
    "std_EB = df_EB.M.std()\n",
    "print(\"The standard deviation of EE is {0} and the standard deviation of EB is {1}\".format(std_EE,std_EB))\n",
    "print(\"The EB has the smaller standard deviation, which is evidenced by its narrower peak on the histogram.\")"
   ]
  },
  {
   "cell_type": "markdown",
   "metadata": {},
   "source": [
    "# Problem 7\n",
    "From your DataFrame (from Problem 2), drop all columns except for pt1, eta1, phi1, pt2, eta2, phi2, and M. \n",
    "Using this DataFrame, use the Pandas *corr* function to produce a correlataion table. What quantites have the strongest correlation (that is not 1)?"
   ]
  },
  {
   "cell_type": "code",
   "execution_count": 53,
   "metadata": {},
   "outputs": [
    {
     "name": "stdout",
     "output_type": "stream",
     "text": [
      "           pt1      eta1      phi1       pt2      eta2      phi2         M\n",
      "pt1   1.000000 -0.005495 -0.000376 -0.068503 -0.009661 -0.000184  0.279797\n",
      "eta1 -0.005495  1.000000  0.015935  0.009975  0.665429 -0.022004  0.010426\n",
      "phi1 -0.000376  0.015935  1.000000  0.000893  0.007323 -0.460515 -0.000727\n",
      "pt2  -0.068503  0.009975  0.000893  1.000000  0.010027 -0.000399  0.342749\n",
      "eta2 -0.009661  0.665429  0.007323  0.010027  1.000000 -0.023955  0.002616\n",
      "phi2 -0.000184 -0.022004 -0.460515 -0.000399 -0.023955  1.000000 -0.015139\n",
      "M     0.279797  0.010426 -0.000727  0.342749  0.002616 -0.015139  1.000000\n"
     ]
    }
   ],
   "source": [
    "df_corr = df[['pt1','eta1','phi1','pt2','eta2','phi2','M']]\n",
    "corr_matrix = df_corr.corr()\n",
    "print(corr_matrix)"
   ]
  },
  {
   "cell_type": "markdown",
   "metadata": {},
   "source": [
    "eta1 and eta1 have a a positive correlation of 0.665429 and phi1 and phi2 have a negative correlation of -0.460515. The invariant mass and pt2 also have a reasonably high positive correlation of 0.342749."
   ]
  }
 ],
 "metadata": {
  "kernelspec": {
   "display_name": "Python 3",
   "language": "python",
   "name": "python3"
  },
  "language_info": {
   "codemirror_mode": {
    "name": "ipython",
    "version": 3
   },
   "file_extension": ".py",
   "mimetype": "text/x-python",
   "name": "python",
   "nbconvert_exporter": "python",
   "pygments_lexer": "ipython3",
   "version": "3.7.3"
  }
 },
 "nbformat": 4,
 "nbformat_minor": 4
}
